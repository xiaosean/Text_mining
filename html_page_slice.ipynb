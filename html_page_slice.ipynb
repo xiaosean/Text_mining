{
 "cells": [
  {
   "cell_type": "code",
   "execution_count": 2,
   "metadata": {
    "collapsed": true
   },
   "outputs": [],
   "source": [
    "#!/usr/bin/python\n",
    "# -*- coding: UTF-8 -*- "
   ]
  },
  {
   "cell_type": "code",
   "execution_count": 25,
   "metadata": {
    "collapsed": true
   },
   "outputs": [],
   "source": [
    "from pdfminer.pdfinterp import PDFResourceManager, PDFPageInterpreter\n",
    "from pdfminer.converter import TextConverter\n",
    "from pdfminer.layout import LAParams\n",
    "from pdfminer.pdfpage import PDFPage\n",
    "from time import time\n",
    "from io import StringIO\n",
    "import re\n",
    "from IPython.core.display import display, HTML\n",
    "import json"
   ]
  },
  {
   "cell_type": "code",
   "execution_count": 26,
   "metadata": {
    "collapsed": true
   },
   "outputs": [],
   "source": [
    "import requests\n",
    "from pyquery import PyQuery as pq"
   ]
  },
  {
   "cell_type": "code",
   "execution_count": 27,
   "metadata": {
    "collapsed": true
   },
   "outputs": [],
   "source": [
    "def slice_page_text(web_parser, page_num):\n",
    "    id_name_prefix = \"pf\"\n",
    "    id_name = \"#\" + id_name_prefix + str(page_num)\n",
    "#     if(not html_parser(id_name).html()):\n",
    "#         print(\"do not exist\")\n",
    "#     HTML(html_parser(id_name).html())\n",
    "#     print(html_parser(id_name).html())\n",
    "    return html_parser(id_name).text()"
   ]
  },
  {
   "cell_type": "code",
   "execution_count": 28,
   "metadata": {
    "collapsed": true
   },
   "outputs": [],
   "source": [
    "def slice_page(web_parser, page_num):\n",
    "    id_name_prefix = \"pf\"\n",
    "    id_name = \"#\" + id_name_prefix + str(page_num)\n",
    "#     if(not html_parser(id_name).html()):\n",
    "#         print(\"do not exist\")\n",
    "#     HTML(html_parser(id_name).html())\n",
    "#     print(html_parser(id_name).html())\n",
    "    html_parser(id_name).html()\n",
    "#     for div_row in html_parser(id_name).find(\"div\").html():\n",
    "#         print(html_parser(div_row).text())\n",
    "#     print(html_parser(id_name).find(\"div\").find(\"div\").html())\n",
    "    return html_parser(id_name).html()"
   ]
  },
  {
   "cell_type": "code",
   "execution_count": 40,
   "metadata": {
    "collapsed": true
   },
   "outputs": [],
   "source": [
    "ip = \"http://140.118.127.132:5000\""
   ]
  },
  {
   "cell_type": "code",
   "execution_count": 41,
   "metadata": {
    "collapsed": true
   },
   "outputs": [],
   "source": [
    "def get_page_api(corpid):\n",
    "    get_page_api_href = ip + \"/get_page?corpid=%s\" % (corpid)\n",
    "    return get_page_api_href"
   ]
  },
  {
   "cell_type": "code",
   "execution_count": 42,
   "metadata": {
    "collapsed": true
   },
   "outputs": [],
   "source": [
    "def get_div_api(corpid, page_num):\n",
    "    get_div_api_href = ip + \"/get_page?corpid=%s&page=%s\" % (corpid, page_num)\n",
    "    return get_div_api_href"
   ]
  },
  {
   "cell_type": "code",
   "execution_count": 43,
   "metadata": {},
   "outputs": [],
   "source": [
    "# r = requests.get(get_page_api(corpid))\n",
    "# r.text"
   ]
  },
  {
   "cell_type": "code",
   "execution_count": 44,
   "metadata": {},
   "outputs": [],
   "source": [
    "# get_page_api = ip + \"/get_div?corpid=\"\n",
    "# r = requests.get(get_div_api(corpid, 1))\n",
    "# r.text"
   ]
  },
  {
   "cell_type": "markdown",
   "metadata": {},
   "source": [
    "# filter useless"
   ]
  },
  {
   "cell_type": "code",
   "execution_count": 45,
   "metadata": {
    "collapsed": true
   },
   "outputs": [],
   "source": [
    "corpid = 6015\n",
    "html = open(\"03027502_宏遠證券_2015CSR報.html\", 'r', encoding='utf-8')\n",
    "html_lines = []\n",
    "for index, line in enumerate(html.readlines()):\n",
    "#     if(index > 1000000):\n",
    "#         break\n",
    "#     filter_flag = False\n",
    "#     for f in filter_list:\n",
    "#         if line.startswith(f):\n",
    "#             filter_flag = True\n",
    "#             break\n",
    "#     if filter_flag:\n",
    "#         continue\n",
    "#     if(line[:4] == \"<div\"):\n",
    "#         print(line[:3])\n",
    "#         if(not \"<img\" in line):\n",
    "#         print(index)\n",
    "#         match = re.search(r'<img(.*)>', line)\n",
    "#         if(match):\n",
    "#             print(match)\n",
    "#         remove img bcz it is too bigger to load\n",
    "#         line = re.sub(r'<img.*?>', '', line)\n",
    "#         html_lines.append(line)\n",
    "\n",
    "#         match = re.finditer(r'<img(.*)>', line)\n",
    "#         if match:\n",
    "#             for img_str in match:\n",
    "#                 print(img_str)\n",
    "#         non_img_line = \n",
    "        html_lines.append(line)\n",
    "#         print(line[:3])\n",
    "\n",
    "#     print(line[:3])\n",
    "#     html_lines.append(line)"
   ]
  },
  {
   "cell_type": "code",
   "execution_count": 46,
   "metadata": {
    "collapsed": true
   },
   "outputs": [],
   "source": [
    "html_text = \"\".join(html_lines)"
   ]
  },
  {
   "cell_type": "code",
   "execution_count": null,
   "metadata": {
    "collapsed": true
   },
   "outputs": [],
   "source": []
  },
  {
   "cell_type": "code",
   "execution_count": 47,
   "metadata": {
    "collapsed": true
   },
   "outputs": [],
   "source": [
    "html_parser = pq(html_text)"
   ]
  },
  {
   "cell_type": "code",
   "execution_count": 48,
   "metadata": {},
   "outputs": [
    {
     "name": "stdout",
     "output_type": "stream",
     "text": [
      "post  1\n",
      "post  2\n",
      "post  3\n",
      "post  4\n",
      "post  5\n",
      "post  6\n",
      "post  7\n",
      "post  8\n",
      "post  9\n",
      "post  10\n",
      "post  11\n",
      "post  12\n",
      "post  13\n",
      "post  14\n",
      "post  15\n",
      "post  16\n",
      "post  17\n",
      "post  18\n",
      "post  19\n",
      "post  20\n",
      "post  21\n",
      "post  22\n",
      "post  23\n",
      "post  24\n",
      "post  25\n",
      "post  26\n",
      "post  27\n",
      "post  28\n",
      "post  29\n",
      "post  30\n",
      "post  31\n",
      "post  32\n",
      "post  33\n",
      "post  34\n",
      "post  35\n",
      "post  36\n",
      "post  37\n",
      "post  38\n",
      "post  39\n",
      "post  40\n",
      "post  41\n",
      "post  42\n",
      "post  43\n",
      "post  44\n",
      "post  45\n",
      "post  46\n",
      "post  47\n",
      "post  48\n",
      "post  49\n",
      "post  50\n",
      "post  51\n",
      "post  52\n",
      "post  53\n",
      "post  54\n",
      "page = 55 => do not exist\n"
     ]
    }
   ],
   "source": [
    "for page_num in range(1, 300):\n",
    "    page_html = slice_page(html_parser, hex(page_num)[2:])\n",
    "    if(not page_html):\n",
    "        print(\"page = %d => do not exist\" % page_num)\n",
    "        break\n",
    "    else:\n",
    "#         display(HTML(page_html))\n",
    "        data = {'corpid': corpid, 'page': page_num, \"div\": str(page_html)}\n",
    "        r = requests.post(ip + \"/put_div\", json=data)\n",
    "        print(\"post \", page_num)\n",
    "#         print(r.text)\n",
    "#         print(page_html)"
   ]
  },
  {
   "cell_type": "code",
   "execution_count": 49,
   "metadata": {
    "collapsed": true
   },
   "outputs": [],
   "source": [
    "css_header = html_parser(\"style\").eq(2).html()\n",
    "data = {'corpid': corpid, \"header\": css_header}\n",
    "r = requests.post(ip + \"/put_header\", json=data)"
   ]
  },
  {
   "cell_type": "code",
   "execution_count": null,
   "metadata": {
    "collapsed": true
   },
   "outputs": [],
   "source": []
  },
  {
   "cell_type": "code",
   "execution_count": null,
   "metadata": {
    "collapsed": true
   },
   "outputs": [],
   "source": []
  },
  {
   "cell_type": "code",
   "execution_count": null,
   "metadata": {
    "collapsed": true
   },
   "outputs": [],
   "source": []
  },
  {
   "cell_type": "code",
   "execution_count": 50,
   "metadata": {},
   "outputs": [
    {
     "data": {
      "text/plain": [
       "'<!DOCTYPE HTML PUBLIC \"-//W3C//DTD HTML 3.2 Final//EN\">\\n<title>500 Internal Server Error</title>\\n<h1>Internal Server Error</h1>\\n<p>The server encountered an internal error and was unable to complete your request.  Either the server is overloaded or there is an error in the application.</p>\\n'"
      ]
     },
     "execution_count": 50,
     "metadata": {},
     "output_type": "execute_result"
    }
   ],
   "source": [
    "data = {'corpid': corpid, 'page': 11, \"div\": \"Test1234\"}\n",
    "\n",
    "r = requests.post(ip + \"/put_div\", data=json.dumps(data))\n",
    "r.text"
   ]
  },
  {
   "cell_type": "code",
   "execution_count": 51,
   "metadata": {},
   "outputs": [
    {
     "data": {
      "text/plain": [
       "'<!DOCTYPE HTML PUBLIC \"-//W3C//DTD HTML 3.2 Final//EN\">\\n<title>500 Internal Server Error</title>\\n<h1>Internal Server Error</h1>\\n<p>The server encountered an internal error and was unable to complete your request.  Either the server is overloaded or there is an error in the application.</p>\\n'"
      ]
     },
     "execution_count": 51,
     "metadata": {},
     "output_type": "execute_result"
    }
   ],
   "source": [
    "data = {'corpid': 1, 'page': 1, \"div\": \"Test14\"}\n",
    "\n",
    "r = requests.post(ip + \"/put_div\", json=data)\n",
    "r.text"
   ]
  },
  {
   "cell_type": "code",
   "execution_count": 52,
   "metadata": {},
   "outputs": [
    {
     "data": {
      "text/plain": [
       "'{\"corpid\": 1, \"page\": 1, \"div\": \"Test14\"}'"
      ]
     },
     "execution_count": 52,
     "metadata": {},
     "output_type": "execute_result"
    }
   ],
   "source": [
    "json.dumps(data)"
   ]
  },
  {
   "cell_type": "code",
   "execution_count": 58,
   "metadata": {},
   "outputs": [
    {
     "data": {
      "text/plain": [
       "'<div class=\"pc pc1 w0 h0\"><img class=\"bi x0 y0 w1 h1\" alt=\"\" src=\"data:image/png;base64,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\"/><div class=\"t m0 x1 h2 y1 ff1 fs0 fc0 sc0 ls0 ws0\"> </div><div class=\"t m0 x1 h2 y2 ff1 fs0 fc0 sc0 ls0 ws0\"> </div><div class=\"t m0 x1 h2 y3 ff1 fs0 fc0 sc0 ls0 ws0\"> </div><div class=\"t m0 x2 h2 y4 ff1 fs0 fc0 sc0 ls0 ws0\"> </div><div class=\"t m1 x3 h3 y5 ff2 fs1 fc0 sc0 ls0 ws0\">宏遠證券股份有限公司</div><div class=\"t m1 x3 h3 y6 ff2 fs1 fc0 sc0 ls0 ws0\">宏遠證券股份有限公司<span class=\"_ _0\"/>宏遠證券股份有限公司</div><div class=\"t m1 x3 h3 y5 ff2 fs1 fc0 sc0 ls0 ws0\">宏遠證券股份有限公司 </div><div class=\"t m1 x4 h3 y6 ff2 fs1 fc0 sc0 ls0 ws0\"> <span class=\"_ _1\"/> </div><div class=\"t m1 x4 h3 y5 ff2 fs1 fc0 sc0 ls0 ws0\"> </div><div class=\"t m2 x5 h4 y7 ff3 fs2 fc0 sc0 ls0 ws0\">一</div><div class=\"t m2 x5 h4 y8 ff3 fs2 fc0 sc0 ls0 ws0\">一<span class=\"_ _2\"/>一</div><div class=\"t m2 x5 h4 y7 ff3 fs2 fc0 sc0 ls0 ws0\">一○</div><div class=\"t m2 x6 h4 y8 ff3 fs2 fc0 sc0 ls0 ws0\">○<span class=\"_ _2\"/>○</div><div class=\"t m2 x6 h4 y7 ff3 fs2 fc0 sc0 ls0 ws0\">○五</div><div class=\"t m2 x7 h4 y8 ff3 fs2 fc0 sc0 ls0 ws0\">五<span class=\"_ _2\"/>五</div><div class=\"t m2 x7 h4 y7 ff3 fs2 fc0 sc0 ls0 ws0\">五年度</div><div class=\"t m2 x8 h4 y8 ff3 fs2 fc0 sc0 ls0 ws0\">年度<span class=\"_ _3\"/>年度</div><div class=\"t m2 x8 h4 y7 ff3 fs2 fc0 sc0 ls0 ws0\">年度<span class=\"ff4\"> </span></div><div class=\"t m2 x9 h4 y9 ff3 fs2 fc0 sc0 ls0 ws0\">企業社會責<span class=\"_ _4\"/>任報告書</div><div class=\"t m2 x9 h4 ya ff3 fs2 fc0 sc0 ls0 ws0\">企業社會責<span class=\"_ _4\"/>任報告書<span class=\"_ _5\"/>企業社會責<span class=\"_ _4\"/>任報告書</div><div class=\"t m2 x9 h4 y9 ff3 fs2 fc0 sc0 ls0 ws0\">企業社會責<span class=\"_ _4\"/>任報告書<span class=\"_ _4\"/><span class=\"ff4\">(<span class=\"ff3\">更</span></span></div><div class=\"t m2 xa h4 ya ff3 fs2 fc0 sc0 ls0 ws0\">更<span class=\"_ _2\"/>更</div><div class=\"t m2 xa h4 y9 ff3 fs2 fc0 sc0 ls0 ws0\">更</div><div class=\"t m2 xb h4 yb ff3 fs2 fc0 sc0 ls0 ws0\">正</div><div class=\"t m2 xb h4 yc ff3 fs2 fc0 sc0 ls0 ws0\">正<span class=\"_ _2\"/>正</div><div class=\"t m2 xb h4 yb ff3 fs2 fc0 sc0 ls0 ws0\">正<span class=\"ff4\">) </span></div><div class=\"t m3 xc h5 yd ff5 fs3 fc0 sc0 ls0 ws0\">查詢網址：<span class=\"ff6\"> </span></div><div class=\"t m3 xd h5 ye ff5 fs3 fc0 sc0 ls0 ws0\">本公司網站<span class=\"ff6\">  www<span class=\"_ _6\"/>.honsec.com.tw/ </span></div><div class=\"t m0 xe h6 yf ff7 fs4 fc0 sc0 ls0 ws0\">中華民<span class=\"_ _4\"/>國一</div><div class=\"t m0 xe h6 y10 ff7 fs4 fc0 sc0 ls0 ws0\">中華民<span class=\"_ _4\"/>國一<span class=\"_ _7\"/>中華民<span class=\"_ _4\"/>國一</div><div class=\"t m0 xe h6 yf ff7 fs4 fc0 sc0 ls0 ws0\">中華民<span class=\"_ _4\"/>國一○</div><div class=\"t m0 xf h6 y10 ff7 fs4 fc0 sc0 ls0 ws0\">○<span class=\"_ _8\"/>○</div><div class=\"t m0 xf h6 yf ff7 fs4 fc0 sc0 ls0 ws0\">○五</div><div class=\"t m0 xb h6 y10 ff7 fs4 fc0 sc0 ls0 ws0\">五<span class=\"_ _8\"/>五</div><div class=\"t m0 xb h6 yf ff7 fs4 fc0 sc0 ls0 ws0\">五年</div><div class=\"t m0 x2 h6 y10 ff7 fs4 fc0 sc0 ls0 ws0\">年<span class=\"_ _8\"/>年</div><div class=\"t m0 x2 h6 yf ff7 fs4 fc0 sc0 ls0 ws0\">年六</div><div class=\"t m0 x10 h6 y10 ff7 fs4 fc0 sc0 ls0 ws0\">六<span class=\"_ _8\"/>六</div><div class=\"t m0 x10 h6 yf ff7 fs4 fc0 sc0 ls0 ws0\">六月</div><div class=\"t m0 x11 h6 y10 ff7 fs4 fc0 sc0 ls0 ws0\">月<span class=\"_ _8\"/>月</div><div class=\"t m0 x11 h6 yf ff7 fs4 fc0 sc0 ls0 ws0\">月二十</div><div class=\"t m0 x12 h6 y10 ff7 fs4 fc0 sc0 ls0 ws0\">二十<span class=\"_ _9\"/>二十</div><div class=\"t m0 x12 h6 yf ff7 fs4 fc0 sc0 ls0 ws0\">二十三</div><div class=\"t m0 x13 h6 y10 ff7 fs4 fc0 sc0 ls0 ws0\">三<span class=\"_ _8\"/>三</div><div class=\"t m0 x13 h6 yf ff7 fs4 fc0 sc0 ls0 ws0\">三日</div><div class=\"t m0 x14 h6 y10 ff7 fs4 fc0 sc0 ls0 ws0\">日<span class=\"_ _8\"/>日</div><div class=\"t m0 x14 h6 yf ff7 fs4 fc0 sc0 ls0 ws0\">日<span class=\"ff4\"> </span></div><div class=\"t m4 x15 h7 y11 ff8 fs5 fc0 sc0 ls0 ws0\">股票<span class=\"_ _a\"/>代號<span class=\"_ _a\"/>：<span class=\"ff6\">60<span class=\"_ _a\"/>15</span></div><div class=\"c x16 y12 w2 h8\"><div class=\"t m4 x17 h9 y13 ff6 fs5 fc0 sc0 ls0 ws0\"> </div></div></div><div class=\"pi\" data-data=\"{&quot;ctm&quot;:[1.000000,0.000000,0.000000,1.000000,0.000000,0.000000]}\"/>'"
      ]
     },
     "execution_count": 58,
     "metadata": {},
     "output_type": "execute_result"
    }
   ],
   "source": [
    "r = requests.get(ip + \"/get_div?corpid=6015&page=1\")\n",
    "r.text"
   ]
  },
  {
   "cell_type": "code",
   "execution_count": null,
   "metadata": {
    "collapsed": true
   },
   "outputs": [],
   "source": []
  }
 ],
 "metadata": {
  "kernelspec": {
   "display_name": "Python 3",
   "language": "python",
   "name": "python3"
  },
  "language_info": {
   "codemirror_mode": {
    "name": "ipython",
    "version": 3
   },
   "file_extension": ".py",
   "mimetype": "text/x-python",
   "name": "python",
   "nbconvert_exporter": "python",
   "pygments_lexer": "ipython3",
   "version": "3.6.1"
  }
 },
 "nbformat": 4,
 "nbformat_minor": 2
}
