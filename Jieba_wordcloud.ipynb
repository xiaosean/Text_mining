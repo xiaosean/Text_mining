{
 "cells": [
  {
   "cell_type": "code",
   "execution_count": 141,
   "metadata": {
    "collapsed": true
   },
   "outputs": [],
   "source": [
    "#!/usr/bin/python\n",
    "# -*- coding: UTF-8 -*- "
   ]
  },
  {
   "cell_type": "code",
   "execution_count": 142,
   "metadata": {
    "collapsed": true
   },
   "outputs": [],
   "source": [
    "from pdfminer.pdfinterp import PDFResourceManager, PDFPageInterpreter\n",
    "from pdfminer.converter import TextConverter\n",
    "from pdfminer.layout import LAParams\n",
    "from pdfminer.pdfpage import PDFPage\n",
    "from time import time\n",
    "from io import StringIO\n",
    "import re\n",
    "from IPython.core.display import display, HTML\n",
    "import json"
   ]
  },
  {
   "cell_type": "code",
   "execution_count": 143,
   "metadata": {
    "collapsed": true
   },
   "outputs": [],
   "source": [
    "import requests\n",
    "from pyquery import PyQuery as pq"
   ]
  },
  {
   "cell_type": "code",
   "execution_count": 144,
   "metadata": {
    "collapsed": true
   },
   "outputs": [],
   "source": [
    "import jieba\n",
    "import json\n",
    "from wordcloud import WordCloud  \n"
   ]
  },
  {
   "cell_type": "code",
   "execution_count": 145,
   "metadata": {
    "collapsed": true
   },
   "outputs": [],
   "source": [
    "def slice_page_text(web_parser, page_num):\n",
    "    id_name_prefix = \"pf\"\n",
    "    id_name = \"#\" + id_name_prefix + str(page_num)\n",
    "#     if(not html_parser(id_name).html()):\n",
    "#         print(\"do not exist\")\n",
    "#     HTML(html_parser(id_name).html())\n",
    "#     print(html_parser(id_name).html())\n",
    "    return html_parser(id_name).text()"
   ]
  },
  {
   "cell_type": "code",
   "execution_count": 146,
   "metadata": {
    "collapsed": true
   },
   "outputs": [],
   "source": [
    "def slice_page(web_parser, page_num):\n",
    "    id_name_prefix = \"pf\"\n",
    "    id_name = \"#\" + id_name_prefix + str(page_num)\n",
    "#     if(not html_parser(id_name).html()):\n",
    "#         print(\"do not exist\")\n",
    "#     HTML(html_parser(id_name).html())\n",
    "#     print(html_parser(id_name).html())\n",
    "    html_parser(id_name).html()\n",
    "#     for div_row in html_parser(id_name).find(\"div\").html():\n",
    "#         print(html_parser(div_row).text())\n",
    "#     print(html_parser(id_name).find(\"div\").find(\"div\").html())\n",
    "    return html_parser(id_name).html()"
   ]
  },
  {
   "cell_type": "code",
   "execution_count": 147,
   "metadata": {
    "collapsed": true
   },
   "outputs": [],
   "source": [
    "ip = \"http://140.118.127.132:5000\""
   ]
  },
  {
   "cell_type": "code",
   "execution_count": 148,
   "metadata": {
    "collapsed": true
   },
   "outputs": [],
   "source": [
    "def get_page_api(corpid):\n",
    "    get_page_api_href = ip + \"/get_page?corpid=%s\" % (corpid)\n",
    "    return get_page_api_href"
   ]
  },
  {
   "cell_type": "code",
   "execution_count": 149,
   "metadata": {
    "collapsed": true
   },
   "outputs": [],
   "source": [
    "def get_div_api(corpid, page_num):\n",
    "    get_div_api_href = ip + \"/get_page?corpid=%s&page=%s\" % (corpid, page_num)\n",
    "    return get_div_api_href"
   ]
  },
  {
   "cell_type": "code",
   "execution_count": 150,
   "metadata": {
    "collapsed": true
   },
   "outputs": [],
   "source": [
    "# r = requests.get(get_page_api(corpid))\n",
    "# r.text"
   ]
  },
  {
   "cell_type": "code",
   "execution_count": 151,
   "metadata": {
    "collapsed": true
   },
   "outputs": [],
   "source": [
    "# get_page_api = ip + \"/get_div?corpid=\"\n",
    "# r = requests.get(get_div_api(corpid, 1))\n",
    "# r.text"
   ]
  },
  {
   "cell_type": "markdown",
   "metadata": {},
   "source": [
    "# filter useless"
   ]
  },
  {
   "cell_type": "code",
   "execution_count": 152,
   "metadata": {
    "collapsed": true
   },
   "outputs": [],
   "source": [
    "corpid = 6015\n",
    "html = open(\"03027502_宏遠證券_2015CSR報.html\", 'r', encoding='utf-8')\n",
    "html_lines = []\n",
    "for index, line in enumerate(html.readlines()):\n",
    "#     if(index > 1000000):\n",
    "#         break\n",
    "#     filter_flag = False\n",
    "#     for f in filter_list:\n",
    "#         if line.startswith(f):\n",
    "#             filter_flag = True\n",
    "#             break\n",
    "#     if filter_flag:\n",
    "#         continue\n",
    "    if(line[:4] == \"<div\"):\n",
    "#         print(line[:3])\n",
    "#         if(not \"<img\" in line):\n",
    "#         print(index)\n",
    "#         match = re.search(r'<img(.*)>', line)\n",
    "#         if(match):\n",
    "#             print(match)\n",
    "#         remove img bcz it is too bigger to load\n",
    "#         line = re.sub(r'<img.*?>', '', line)\n",
    "#         html_lines.append(line)\n",
    "\n",
    "#         match = re.finditer(r'<img(.*)>', line)\n",
    "#         if match:\n",
    "#             for img_str in match:\n",
    "#                 print(img_str)\n",
    "#         non_img_line = \n",
    "        html_lines.append(line)\n",
    "#         print(line[:3])\n",
    "\n",
    "#     print(line[:3])\n",
    "#     html_lines.append(line)"
   ]
  },
  {
   "cell_type": "code",
   "execution_count": 153,
   "metadata": {
    "collapsed": true
   },
   "outputs": [],
   "source": [
    "html_text = \"\".join(html_lines)"
   ]
  },
  {
   "cell_type": "code",
   "execution_count": 154,
   "metadata": {
    "collapsed": true
   },
   "outputs": [],
   "source": [
    "html_parser = pq(html_text)"
   ]
  },
  {
   "cell_type": "code",
   "execution_count": 155,
   "metadata": {},
   "outputs": [],
   "source": [
    "full_text = html_parser.text()"
   ]
  },
  {
   "cell_type": "code",
   "execution_count": 156,
   "metadata": {},
   "outputs": [],
   "source": [
    "file = open(\"./out1.txt\",\"r\") "
   ]
  },
  {
   "cell_type": "code",
   "execution_count": 157,
   "metadata": {},
   "outputs": [],
   "source": [
    "full_text = file.read()"
   ]
  },
  {
   "cell_type": "code",
   "execution_count": 158,
   "metadata": {},
   "outputs": [
    {
     "data": {
      "text/plain": [
       "'永遠感激\\u3000妳狂奔過操場\\u3000來到我眼前\\n陽光燦爛\\u3000燙紅了妳雙頰\\u3000溫暖妳笑靨\\n那時節\\u3000黃澄澄的落葉\\u3000鋪滿整條街\\n下課鐘聲\\u3000盪過悠悠歲月\\n\\n長大後\\u3000世界像一張網\\u3000網住我們的翅膀\\n回憶\\u3000沈甸甸在心上\\n偶爾\\u3000輕聲獨唱\\n是否能找回消失的力量\\n\\n想起了初愛\\u3000想起最初的夢已不在\\n想起青春\\u3000曾無畏無懼\\u3000無所謂失敗\\n當時看見彩虹就笑開\\u3000一無窒礙在胸懷\\n帶妳拋下課堂\\u3000翻過圍牆\\u3000只為了往一片大海\\n\\n告別了初愛\\u3000告別了制服上的名牌\\n告別天真\\u3000學著去撥開\\u3000雨天的陰霾\\n沮喪失落反覆地重來\\u3000不能放棄勇敢去愛\\n\\n是妳讓我\\u3000還相信未來\\n\\n更多更詳盡歌詞 在 ※ Mojim.com\\u3000魔鏡歌詞網 \\n若不是妳\\u3000包容我年少時\\u3000輕狂和執拗\\n我不可能\\u3000在顛簸的路上\\u3000走的那麼好\\n雖然妳\\u3000終究沒等到我\\u3000做妳的驕傲\\n卻永遠是\\u3000我生命中的美好\\n\\n總是會在碰撞中回望\\u3000脆弱累積成擔當\\n總要\\u3000一段一段錯過\\u3000癒合\\u3000那時的傷\\n妳卻早已經不在我身旁\\n\\n永遠的初愛\\u3000永遠最初的夢最精采\\n想起青春\\u3000曾無畏無懼\\u3000無所謂失敗\\n當時看見彩虹就笑開\\u3000一無窒礙在胸懷\\n帶妳拋下課堂\\u3000翻過圍牆\\u3000只為了往一片大海\\n\\n告別了初愛\\u3000告別了制服上的名牌\\n告別天真\\u3000學會去撥開\\u3000雨天的陰霾\\n沮喪失落反覆地重來\\u3000不能放棄勇敢去愛\\n\\n是妳讓我\\u3000還相信未來\\n我想起妳\\u3000就不會崩壞In [26]:\\n'"
      ]
     },
     "execution_count": 158,
     "metadata": {},
     "output_type": "execute_result"
    }
   ],
   "source": [
    "full_text"
   ]
  },
  {
   "cell_type": "code",
   "execution_count": 159,
   "metadata": {},
   "outputs": [],
   "source": [
    "# jieba.set_dictionary('dict.txt.big.txt')"
   ]
  },
  {
   "cell_type": "code",
   "execution_count": 160,
   "metadata": {
    "collapsed": true
   },
   "outputs": [],
   "source": [
    "seglist = jieba.cut(full_text, cut_all=False)\n"
   ]
  },
  {
   "cell_type": "code",
   "execution_count": 161,
   "metadata": {},
   "outputs": [],
   "source": [
    "# count = 0\n",
    "# for i in seglist:\n",
    "#     print(i)\n",
    "#     count += 1\n",
    "#     if count > 3:\n",
    "#         break"
   ]
  },
  {
   "cell_type": "code",
   "execution_count": 162,
   "metadata": {},
   "outputs": [],
   "source": [
    "wl_space_split = \" \".join(seglist)  "
   ]
  },
  {
   "cell_type": "code",
   "execution_count": 163,
   "metadata": {},
   "outputs": [],
   "source": [
    "my_wordcloud = WordCloud().generate(wl_space_split) "
   ]
  },
  {
   "cell_type": "code",
   "execution_count": 164,
   "metadata": {
    "collapsed": true
   },
   "outputs": [],
   "source": [
    "import matplotlib.pyplot as plt  "
   ]
  },
  {
   "cell_type": "code",
   "execution_count": 165,
   "metadata": {},
   "outputs": [
    {
     "data": {
      "image/png": "[encoded data removed]",
      "text/plain": [
       "<matplotlib.figure.Figure at 0x11717c198>"
      ]
     },
     "metadata": {},
     "output_type": "display_data"
    }
   ],
   "source": [
    "#显示词云图  \n",
    "plt.imshow(my_wordcloud)  \n",
    "#是否显示x轴、y轴下标  \n",
    "plt.axis(\"off\")  \n",
    "plt.show()"
   ]
  },
  {
   "cell_type": "code",
   "execution_count": 166,
   "metadata": {},
   "outputs": [],
   "source": [
    "hash = {}\n",
    "for item in seglist: \n",
    "    if item in hash:\n",
    "        hash[item] += 1\n",
    "    else:\n",
    "        hash[item] = 1\n",
    "json.dump(hash,open(\"count.json\",\"w\"))"
   ]
  },
  {
   "cell_type": "code",
   "execution_count": null,
   "metadata": {
    "collapsed": true
   },
   "outputs": [],
   "source": []
  }
 ],
 "metadata": {
  "kernelspec": {
   "display_name": "Python 3",
   "language": "python",
   "name": "python3"
  },
  "language_info": {
   "codemirror_mode": {
    "name": "ipython",
    "version": 3
   },
   "file_extension": ".py",
   "mimetype": "text/x-python",
   "name": "python",
   "nbconvert_exporter": "python",
   "pygments_lexer": "ipython3",
   "version": "3.6.1"
  }
 },
 "nbformat": 4,
 "nbformat_minor": 2
}
